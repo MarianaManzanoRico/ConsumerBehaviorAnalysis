{
 "cells": [
  {
   "cell_type": "code",
   "execution_count": 1,
   "metadata": {},
   "outputs": [],
   "source": [
    "#Librerías\n",
    "import pandas as pd\n",
    "from itertools import chain"
   ]
  },
  {
   "cell_type": "code",
   "execution_count": 2,
   "metadata": {},
   "outputs": [],
   "source": [
    "#Carga de archivos\n",
    "em_attributes = pd.read_excel(\"Attributes1.xlsx\", sheet_name=\"EM_Attributes\")\n",
    "em_Information_Searched = pd.read_excel(\"Attributes1.xlsx\", sheet_name=\"EM_Information_Searched\")\n",
    "em_Final_Choice = pd.read_excel(\"Attributes1.xlsx\", sheet_name=\"EM_Final_Choice\")\n",
    "em_Reasons_Place = pd.read_excel(\"Attributes1.xlsx\", sheet_name=\"EM_Reasons_Place\")\n",
    "em_Brand_Role = pd.read_excel(\"Attributes1.xlsx\", sheet_name=\"EM_Brand_Role\")\n",
    "\n",
    "H_attributes = pd.read_excel(\"Attributes1.xlsx\", sheet_name=\"H_Attributes\")\n",
    "H_Information_Searched = pd.read_excel(\"Attributes1.xlsx\", sheet_name=\"H_Information_Searched\")\n",
    "H_Final_Choice = pd.read_excel(\"Attributes1.xlsx\", sheet_name=\"H_Final_Choice\")\n",
    "H_Reasons_Place = pd.read_excel(\"Attributes1.xlsx\", sheet_name=\"H_Reasons_Place\")\n",
    "\n",
    "CI_Problems_Solved = pd.read_excel(\"Attributes1.xlsx\", sheet_name=\"CI_Problems_Solved\")\n",
    "CI_Attributes = pd.read_excel(\"Attributes1.xlsx\", sheet_name=\"CI_Attributes\")\n",
    "CI_Final_Choice = pd.read_excel(\"Attributes1.xlsx\", sheet_name=\"CI_Final_Choice\")\n",
    "CI_Reasons_Place = pd.read_excel(\"Attributes1.xlsx\", sheet_name=\"CI_Reasons_Place\")\n",
    "CI_Brands_Role = pd.read_excel(\"Attributes1.xlsx\", sheet_name=\"CI_Brands_Role\")\n"
   ]
  },
  {
   "cell_type": "code",
   "execution_count": 3,
   "metadata": {},
   "outputs": [],
   "source": [
    "#Función de separar columnas\n",
    "def separar_columna(dataframe, columna):\n",
    "    dataframe_lleno = dataframe.fillna(\"NO APLICA\")\n",
    "    dataframe_separado = dataframe_lleno.assign(**{columna: dataframe_lleno[columna].str.split(', ')}).explode(columna)\n",
    "    return dataframe_separado"
   ]
  },
  {
   "cell_type": "code",
   "execution_count": 4,
   "metadata": {},
   "outputs": [],
   "source": [
    "#Aplicación de la función\n",
    "em_attributes_sep = separar_columna(em_attributes, 'EM_Attributes')\n",
    "em_Information_Searched_sep = separar_columna(em_Information_Searched, 'EM_Information_Searched')\n",
    "em_Final_Choice_sep = separar_columna(em_Final_Choice, 'EM_Final_Choice_Determined')\n",
    "em_Reasons_Place_sep = separar_columna(em_Reasons_Place, 'EM_Reasons_Place')\n",
    "em_Brand_Role_sep = separar_columna(em_Brand_Role, 'EM_Brands_Role')\n",
    "\n",
    "H_attributes_sep = separar_columna(H_attributes, 'H_Attributes')\n",
    "H_Information_Searched_sep = separar_columna(H_Information_Searched, 'H_Information_Searched')\n",
    "H_Final_Choice_sep = separar_columna(H_Final_Choice, 'H_Final_Choice_Determined')\n",
    "H_Reasons_Place_sep = separar_columna(H_Reasons_Place, 'H_Reasons_Place')\n",
    "\n",
    "CI_Problems_Solved_sep = separar_columna(CI_Problems_Solved, 'CI_Problems_Solved')\n",
    "CI_Attributes_sep = separar_columna(CI_Attributes, 'CI_Attributes')\n",
    "CI_Final_Choice_sep = separar_columna(CI_Final_Choice, 'CI_Final_ChIoice_Determined')\n",
    "CI_Reasons_Place_sep = separar_columna(CI_Reasons_Place, 'CI_Reasons_Place')\n",
    "CI_Brands_Role_sep = separar_columna(CI_Brands_Role, 'CI_Brands_Role')\n"
   ]
  },
  {
   "cell_type": "code",
   "execution_count": 5,
   "metadata": {},
   "outputs": [
    {
     "name": "stdout",
     "output_type": "stream",
     "text": [
      "Los DataFrames han sido guardados en el archivo Excel con éxito.\n"
     ]
    }
   ],
   "source": [
    "# Suponiendo que ya has definido y obtenido los DataFrames em_attributes_sep, em_Information_Searched_sep, etc.\n",
    "\n",
    "# Especifica el nombre del archivo Excel\n",
    "nombre_archivo = \"resultado_separado.xlsx\"\n",
    "\n",
    "# Crea un objeto ExcelWriter\n",
    "writer = pd.ExcelWriter(nombre_archivo, engine='xlsxwriter')\n",
    "\n",
    "# Guarda cada DataFrame en una hoja diferente\n",
    "em_attributes_sep.to_excel(writer, sheet_name='EM_Attr_Separado', index=False)\n",
    "em_Information_Searched_sep.to_excel(writer, sheet_name='EM_Info_Sep', index=False)\n",
    "em_Final_Choice_sep.to_excel(writer, sheet_name='EM_Final_Sep', index=False)\n",
    "em_Reasons_Place_sep.to_excel(writer, sheet_name='EM_Reasons_Sep', index=False)\n",
    "em_Brand_Role_sep.to_excel(writer, sheet_name='EM_Brand_Sep', index=False)\n",
    "\n",
    "H_attributes_sep.to_excel(writer, sheet_name='H_Attr_Separado', index=False)\n",
    "H_Information_Searched_sep.to_excel(writer, sheet_name='H_Info_Sep', index=False)\n",
    "H_Final_Choice_sep.to_excel(writer, sheet_name='H_Final_Sep', index=False)\n",
    "H_Reasons_Place_sep.to_excel(writer, sheet_name='H_Reasons_Sep', index=False)\n",
    "\n",
    "CI_Problems_Solved_sep.to_excel(writer, sheet_name='CI_Prob_Solved_Sep', index=False)\n",
    "CI_Attributes_sep.to_excel(writer, sheet_name='CI_Attr_Sep', index=False)\n",
    "CI_Final_Choice_sep.to_excel(writer, sheet_name='CI_Final_Sep', index=False)\n",
    "CI_Reasons_Place_sep.to_excel(writer, sheet_name='CI_Reasons_Sep', index=False)\n",
    "CI_Brands_Role_sep.to_excel(writer, sheet_name='CI_Brand_Sep', index=False)\n",
    "\n",
    "# Cierra el objeto ExcelWriter\n",
    "writer.close()\n",
    "\n",
    "print(\"Los DataFrames han sido guardados en el archivo Excel con éxito.\")\n"
   ]
  }
 ],
 "metadata": {
  "kernelspec": {
   "display_name": "Python 3",
   "language": "python",
   "name": "python3"
  },
  "language_info": {
   "codemirror_mode": {
    "name": "ipython",
    "version": 3
   },
   "file_extension": ".py",
   "mimetype": "text/x-python",
   "name": "python",
   "nbconvert_exporter": "python",
   "pygments_lexer": "ipython3",
   "version": "3.11.4"
  }
 },
 "nbformat": 4,
 "nbformat_minor": 2
}
